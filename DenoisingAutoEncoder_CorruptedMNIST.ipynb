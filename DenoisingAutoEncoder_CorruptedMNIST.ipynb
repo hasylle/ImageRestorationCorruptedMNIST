{
 "cells": [
  {
   "cell_type": "markdown",
   "metadata": {},
   "source": [
    "# Image Restoration using Autoencoders\n",
    "In this exercise, we model a denoising autoencoder to restore corrupted images of the MNISTdata set. \n",
    "\n",
    "Input: Input data is an MNIST image corrupted by a white square of at most 25% of the image area\n",
    "Output: Restored MNIST image w/o the corrupting white square.\n",
    "\n",
    "Notes:\n",
    "1. Area of white square follows a uniform distribution over [6.25, 25] percent of the image area. That is, the dimension of the square should be sampled from: S = [7, 14] pixels.\n",
    "2. Position of white square is randomly chosen. The x- and y-coordinates of the top-left corner are independently sampled from a uniform distribution over [0, 28 - S], where S is the length of the white square's side.\n"
   ]
  },
  {
   "cell_type": "code",
   "execution_count": 3,
   "metadata": {},
   "outputs": [
    {
     "name": "stdout",
     "output_type": "stream",
     "text": [
      "(60000, 28, 28, 1)\n",
      "(10000, 28, 28, 1)\n"
     ]
    },
    {
     "data": {
      "image/png": "[encoded data removed]",
      "text/plain": [
       "<Figure size 432x288 with 10 Axes>"
      ]
     },
     "metadata": {
      "needs_background": "light"
     },
     "output_type": "display_data"
    },
    {
     "data": {
      "image/png": "[encoded data removed]",
      "text/plain": [
       "<Figure size 432x288 with 10 Axes>"
      ]
     },
     "metadata": {
      "needs_background": "light"
     },
     "output_type": "display_data"
    }
   ],
   "source": [
    "from transforms import *\n",
    "from keras.datasets import mnist\n",
    "import numpy as np\n",
    "import pandas as pd\n",
    "import matplotlib.pyplot as plt\n",
    "%matplotlib inline\n",
    "\n",
    "(X_train, y_train), (X_test, y_test) = mnist.load_data()\n",
    "X_train_corrupted = corrupt_mnist_copy(X_train)\n",
    "X_test_corrupted = corrupt_mnist_copy(X_test)\n",
    "X_train = X_train.astype('float32')/255\n",
    "X_train_corrupted = X_train_corrupted.astype('float32')/255\n",
    "X_test = X_test.astype('float32')/255\n",
    "\n",
    "image_size = X_train.shape[1]\n",
    "X_train = np.reshape(X_train, [-1, image_size, image_size, 1])\n",
    "X_train_corrupted = np.reshape(X_train_corrupted, [-1, image_size, image_size, 1])\n",
    "X_test = np.reshape(X_test, [-1, image_size, image_size, 1])\n",
    "X_test_corrupted = np.reshape(X_test_corrupted, [-1, image_size, image_size, 1])\n",
    "print(X_train.shape)\n",
    "print(X_test.shape)\n",
    "\n",
    "for i in range(10):\n",
    "    plt.subplot(1, 10, i+1)\n",
    "    plt.imshow(X_train[i].reshape(28,28),  cmap='Greys')\n",
    "    plt.axis('off')    \n",
    "plt.show()\n",
    "\n",
    "for i in range(10):\n",
    "    plt.subplot(2, 10, i+1)\n",
    "    plt.imshow(X_train_corrupted[i].reshape(28,28),  cmap='Greys')\n",
    "    plt.axis('off')    \n",
    "plt.show()"
   ]
  },
  {
   "cell_type": "code",
   "execution_count": 7,
   "metadata": {},
   "outputs": [
    {
     "name": "stdout",
     "output_type": "stream",
     "text": [
      "_________________________________________________________________\n",
      "Layer (type)                 Output Shape              Param #   \n",
      "=================================================================\n",
      "encoder_input (InputLayer)   (None, 28, 28, 1)         0         \n",
      "_________________________________________________________________\n",
      "conv2d_8 (Conv2D)            (None, 14, 14, 64)        1664      \n",
      "_________________________________________________________________\n",
      "dropout_7 (Dropout)          (None, 14, 14, 64)        0         \n",
      "_________________________________________________________________\n",
      "conv2d_9 (Conv2D)            (None, 7, 7, 128)         204928    \n",
      "_________________________________________________________________\n",
      "dropout_8 (Dropout)          (None, 7, 7, 128)         0         \n",
      "_________________________________________________________________\n",
      "flatten_2 (Flatten)          (None, 6272)              0         \n",
      "_________________________________________________________________\n",
      "latent_vector (Dense)        (None, 32)                200736    \n",
      "=================================================================\n",
      "Total params: 407,328\n",
      "Trainable params: 407,328\n",
      "Non-trainable params: 0\n",
      "_________________________________________________________________\n",
      "_________________________________________________________________\n",
      "Layer (type)                 Output Shape              Param #   \n",
      "=================================================================\n",
      "decoder_input (InputLayer)   (None, 32)                0         \n",
      "_________________________________________________________________\n",
      "dense_2 (Dense)              (None, 6272)              206976    \n",
      "_________________________________________________________________\n",
      "reshape_1 (Reshape)          (None, 7, 7, 128)         0         \n",
      "_________________________________________________________________\n",
      "conv2d_transpose_1 (Conv2DTr (None, 14, 14, 128)       409728    \n",
      "_________________________________________________________________\n",
      "dropout_9 (Dropout)          (None, 14, 14, 128)       0         \n",
      "_________________________________________________________________\n",
      "conv2d_transpose_2 (Conv2DTr (None, 28, 28, 64)        204864    \n",
      "_________________________________________________________________\n",
      "dropout_10 (Dropout)         (None, 28, 28, 64)        0         \n",
      "_________________________________________________________________\n",
      "decoder_output (Conv2DTransp (None, 28, 28, 1)         1601      \n",
      "=================================================================\n",
      "Total params: 823,169\n",
      "Trainable params: 823,169\n",
      "Non-trainable params: 0\n",
      "_________________________________________________________________\n"
     ]
    }
   ],
   "source": [
    "from keras.layers import Input, Dense, Conv2D, Conv2DTranspose,Dropout,K, Flatten, Reshape\n",
    "from keras.models import Model\n",
    "# network parameters\n",
    "input_shape = (image_size, image_size, 1)\n",
    "batch_size = 256\n",
    "kernel_size = 5\n",
    "latent_dim = 32\n",
    "# encoder/decoder number of CNN layers and filters per layer\n",
    "layer_filters = [64, 128]\n",
    "\n",
    "# build the autoencoder model\n",
    "# first build the encoder model\n",
    "inputs = Input(shape=input_shape, name='encoder_input')\n",
    "x = inputs\n",
    "\n",
    "# stack of Conv2D(32)-Conv2D(64)\n",
    "for filters in layer_filters:\n",
    "    x = Conv2D(filters=filters,\n",
    "               kernel_size=kernel_size,\n",
    "               strides=2,\n",
    "               activation='relu',\n",
    "               padding='same')(x)\n",
    "    x = Dropout(0.1)(x)\n",
    "\n",
    "# shape info needed to build decoder model so we don't do hand computation\n",
    "# the input to the decoder's first Conv2DTranspose will have this shape\n",
    "# shape is (7, 7, 64) which can be processed by the decoder back to (28, 28, 1)\n",
    "shape = K.int_shape(x)\n",
    "\n",
    "# generate the latent vector\n",
    "x = Flatten()(x)\n",
    "latent = Dense(latent_dim, name='latent_vector')(x)\n",
    "\n",
    "# instantiate encoder model\n",
    "encoder = Model(inputs, latent, name='encoder')\n",
    "encoder.summary()\n",
    "\n",
    "# build the decoder model\n",
    "latent_inputs = Input(shape=(latent_dim,), name='decoder_input')\n",
    "# use the shape (7, 7, 64) that was earlier saved\n",
    "x = Dense(shape[1] * shape[2] * shape[3])(latent_inputs)\n",
    "# from vector to suitable shape for transposed conv\n",
    "x = Reshape((shape[1], shape[2], shape[3]))(x)\n",
    "\n",
    "# stack of Conv2DTranspose(64)-Conv2DTranspose(32)\n",
    "for filters in layer_filters[::-1]:\n",
    "    x = Conv2DTranspose(filters=filters,\n",
    "                        kernel_size=kernel_size,\n",
    "                        strides=2,\n",
    "                        activation='relu',\n",
    "                        padding='same')(x)\n",
    "    x = Dropout(0.3)(x)\n",
    "\n",
    "# reconstruct the denoised input\n",
    "outputs = Conv2DTranspose(filters=1,\n",
    "                          kernel_size=kernel_size,\n",
    "                          padding='same',\n",
    "                          activation='sigmoid',\n",
    "                          name='decoder_output')(x)\n",
    "\n",
    "# instantiate decoder model\n",
    "decoder = Model(latent_inputs, outputs, name='decoder')\n",
    "decoder.summary()\n"
   ]
  },
  {
   "cell_type": "code",
   "execution_count": 8,
   "metadata": {},
   "outputs": [
    {
     "name": "stderr",
     "output_type": "stream",
     "text": [
      "W1015 22:19:34.812202 18308 deprecation_wrapper.py:119] From C:\\Users\\Ellysah\\Anaconda3\\envs\\keras-gpu\\lib\\site-packages\\keras\\optimizers.py:790: The name tf.train.Optimizer is deprecated. Please use tf.compat.v1.train.Optimizer instead.\n",
      "\n"
     ]
    },
    {
     "name": "stdout",
     "output_type": "stream",
     "text": [
      "_________________________________________________________________\n",
      "Layer (type)                 Output Shape              Param #   \n",
      "=================================================================\n",
      "encoder_input (InputLayer)   (None, 28, 28, 1)         0         \n",
      "_________________________________________________________________\n",
      "encoder (Model)              (None, 32)                407328    \n",
      "_________________________________________________________________\n",
      "decoder (Model)              (None, 28, 28, 1)         823169    \n",
      "=================================================================\n",
      "Total params: 1,230,497\n",
      "Trainable params: 1,230,497\n",
      "Non-trainable params: 0\n",
      "_________________________________________________________________\n"
     ]
    },
    {
     "name": "stderr",
     "output_type": "stream",
     "text": [
      "W1015 22:19:35.216165 18308 deprecation_wrapper.py:119] From C:\\Users\\Ellysah\\Anaconda3\\envs\\keras-gpu\\lib\\site-packages\\keras\\backend\\tensorflow_backend.py:986: The name tf.assign_add is deprecated. Please use tf.compat.v1.assign_add instead.\n",
      "\n"
     ]
    }
   ],
   "source": [
    "from keras import callbacks,regularizers\n",
    "# autoencoder = encoder + decoder\n",
    "# instantiate autoencoder model\n",
    "autoencoder = Model(inputs, decoder(encoder(inputs)), name='autoencoder')\n",
    "autoencoder.summary()\n",
    "\n",
    "# Mean Square Error (MSE) loss function, Adam optimizer\n",
    "autoencoder.compile(loss='mse', optimizer='adam',metrics=['accuracy'])\n",
    "\n",
    "es = callbacks.EarlyStopping(monitor='val_acc',\n",
    "                              min_delta=0,\n",
    "                              patience=2,\n",
    "                              verbose=0, mode='auto',restore_best_weights=True)\n",
    "# train the autoencoder\n",
    "history = autoencoder.fit(X_train_corrupted,\n",
    "                X_train,\n",
    "                validation_data=(X_test_corrupted, X_test),\n",
    "                epochs=20,\n",
    "                verbose = 0,\n",
    "                batch_size=batch_size,\n",
    "                callbacks=[es]\n",
    "                )"
   ]
  },
  {
   "cell_type": "code",
   "execution_count": 9,
   "metadata": {},
   "outputs": [
    {
     "data": {
      "image/png": "[encoded data removed]",
      "text/plain": [
       "<Figure size 432x288 with 1 Axes>"
      ]
     },
     "metadata": {
      "needs_background": "light"
     },
     "output_type": "display_data"
    },
    {
     "data": {
      "image/png": "[encoded data removed]",
      "text/plain": [
       "<Figure size 432x288 with 1 Axes>"
      ]
     },
     "metadata": {
      "needs_background": "light"
     },
     "output_type": "display_data"
    },
    {
     "name": "stdout",
     "output_type": "stream",
     "text": [
      "10000/10000 [==============================] - 5s 463us/step\n",
      "\n",
      "Test accuracy: 80.3%\n"
     ]
    }
   ],
   "source": [
    "import matplotlib.pyplot as plt\n",
    "def plot(history):\n",
    "    plt.plot(history.history['loss'])\n",
    "    plt.plot(history.history['val_loss'])\n",
    "    plt.title('model loss')\n",
    "    plt.ylabel('loss')\n",
    "    plt.xlabel('epoch')\n",
    "    plt.legend(['train','test'], loc='upper left')\n",
    "    plt.show()\n",
    "\n",
    "    plt.plot(history.history['acc'])\n",
    "    plt.plot(history.history['val_acc'])\n",
    "    plt.title('model accuracy')\n",
    "    plt.ylabel('acc')\n",
    "    plt.xlabel('epoch')\n",
    "    plt.legend(['train','test'], loc='upper left')\n",
    "    plt.show()\n",
    "\n",
    "plot(history)\n",
    "\n",
    "loss, acc = autoencoder.evaluate(X_test_corrupted, X_test, batch_size=batch_size)\n",
    "print(\"\\nTest accuracy: %.1f%%\" % (100.0 * acc))"
   ]
  },
  {
   "cell_type": "code",
   "execution_count": 35,
   "metadata": {},
   "outputs": [
    {
     "name": "stdout",
     "output_type": "stream",
     "text": [
      "(10000, 28, 28)\n",
      "96\n",
      "192\n",
      "288\n",
      "385\n",
      "482\n",
      "578\n",
      "670\n",
      "766\n",
      "861\n",
      "958\n",
      "1055\n",
      "1152\n",
      "1249\n",
      "1347\n",
      "1443\n",
      "1539\n",
      "1636\n",
      "1733\n",
      "1829\n",
      "1924\n",
      "2019\n",
      "2116\n",
      "2214\n",
      "2308\n",
      "2405\n",
      "2499\n",
      "2595\n",
      "2692\n",
      "2790\n",
      "2883\n",
      "2983\n",
      "3075\n",
      "3171\n",
      "3268\n",
      "3363\n",
      "3457\n",
      "3552\n",
      "3648\n",
      "3741\n",
      "3838\n",
      "3935\n",
      "4033\n",
      "4133\n",
      "4227\n",
      "4325\n",
      "4422\n",
      "4519\n",
      "4617\n",
      "4715\n",
      "4810\n",
      "4907\n",
      "5004\n",
      "5100\n",
      "5198\n",
      "5297\n",
      "5397\n",
      "5493\n",
      "5590\n",
      "5686\n",
      "5784\n",
      "5880\n",
      "5979\n",
      "6074\n",
      "6171\n",
      "6269\n",
      "6364\n",
      "6462\n",
      "6559\n",
      "6653\n",
      "6749\n",
      "6846\n",
      "6942\n",
      "7039\n",
      "7135\n",
      "7230\n",
      "7327\n",
      "7424\n",
      "7520\n",
      "7615\n",
      "7711\n",
      "7810\n",
      "7908\n",
      "8007\n",
      "8106\n",
      "8203\n",
      "8298\n",
      "8393\n",
      "8490\n",
      "8587\n",
      "8685\n",
      "8784\n",
      "8878\n",
      "8974\n",
      "9071\n",
      "9170\n",
      "9266\n",
      "9363\n",
      "9461\n",
      "9559\n",
      "9656\n",
      "HuyClassifier score: 1285.75\n",
      "SSIM score: 94.23\n",
      "9656\n",
      "751\n"
     ]
    }
   ],
   "source": [
    "import benchmark_keras,imp\n",
    "from benchmark_keras import test_model\n",
    "(x_train, y_train), (x_test, y_test) = mnist.load_data()\n",
    "\n",
    "# Scale to [0, 1]\n",
    "x_test = x_test / 255\n",
    "# model is your Keras model\n",
    "# DO NOT convert y_test, i.e. don't use keras.utils.to_categorical()\n",
    "imp.reload(benchmark_keras)\n",
    "print(x_test.shape)\n",
    "benchmark_keras.test_model(autoencoder, x_test, y_test, batch_size=100)"
   ]
  },
  {
   "cell_type": "code",
   "execution_count": 167,
   "metadata": {},
   "outputs": [],
   "source": [
    "# predict the autoencoder output from corrupted test images\n",
    "x_decoded = autoencoder.predict(X_test_corrupted)"
   ]
  },
  {
   "cell_type": "code",
   "execution_count": 168,
   "metadata": {},
   "outputs": [
    {
     "data": {
      "image/png": "[encoded data removed]",
      "text/plain": [
       "<Figure size 432x288 with 30 Axes>"
      ]
     },
     "metadata": {
      "needs_background": "light"
     },
     "output_type": "display_data"
    }
   ],
   "source": [
    "numimages = 10\n",
    "start = 10\n",
    "for i in range(numimages):\n",
    "    plt.subplot(3, numimages, i+1)\n",
    "    plt.imshow(X_test[start+i].reshape(28,28),  cmap='Greys')\n",
    "    plt.axis('off')    \n",
    "    plt.subplot(3, numimages, numimages+i+1)\n",
    "    plt.imshow(X_test_corrupted[start+i].reshape(28,28),  cmap='Greys')\n",
    "    plt.axis('off') \n",
    "    plt.subplot(3, numimages, 2*numimages+i+1)\n",
    "    plt.imshow(x_decoded[start+i].reshape(28,28),  cmap='Greys')\n",
    "    plt.axis('off')  \n",
    "plt.show()\n"
   ]
  },
  {
   "cell_type": "code",
   "execution_count": null,
   "metadata": {},
   "outputs": [],
   "source": []
  }
 ],
 "metadata": {
  "kernelspec": {
   "display_name": "Python 3",
   "language": "python",
   "name": "python3"
  },
  "language_info": {
   "codemirror_mode": {
    "name": "ipython",
    "version": 3
   },
   "file_extension": ".py",
   "mimetype": "text/x-python",
   "name": "python",
   "nbconvert_exporter": "python",
   "pygments_lexer": "ipython3",
   "version": "3.6.9"
  }
 },
 "nbformat": 4,
 "nbformat_minor": 2
}
